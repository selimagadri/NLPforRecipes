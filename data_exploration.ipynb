{
 "cells": [
  {
   "cell_type": "markdown",
   "metadata": {},
   "source": [
    "### Importation des librairies nécessaires\n"
   ]
  },
  {
   "cell_type": "code",
   "execution_count": 41,
   "metadata": {},
   "outputs": [],
   "source": [
    "import pandas as pd\n",
    "import matplotlib.pyplot as plt\n",
    "import seaborn as sns"
   ]
  },
  {
   "cell_type": "markdown",
   "metadata": {},
   "source": [
    "### Exploration Générale"
   ]
  },
  {
   "cell_type": "code",
   "execution_count": 42,
   "metadata": {},
   "outputs": [],
   "source": [
    "# Charger le dataset\n",
    "df = pd.read_csv('recettes.csv')"
   ]
  },
  {
   "cell_type": "code",
   "execution_count": 43,
   "metadata": {},
   "outputs": [
    {
     "data": {
      "text/html": [
       "<div>\n",
       "<style scoped>\n",
       "    .dataframe tbody tr th:only-of-type {\n",
       "        vertical-align: middle;\n",
       "    }\n",
       "\n",
       "    .dataframe tbody tr th {\n",
       "        vertical-align: top;\n",
       "    }\n",
       "\n",
       "    .dataframe thead th {\n",
       "        text-align: right;\n",
       "    }\n",
       "</style>\n",
       "<table border=\"1\" class=\"dataframe\">\n",
       "  <thead>\n",
       "    <tr style=\"text-align: right;\">\n",
       "      <th></th>\n",
       "      <th>nom_de_recette</th>\n",
       "      <th>type_de_recette</th>\n",
       "      <th>type_du_plat</th>\n",
       "      <th>ingredients</th>\n",
       "      <th>ustensiles</th>\n",
       "      <th>nombre_de_personnes</th>\n",
       "      <th>difficulte</th>\n",
       "      <th>budget</th>\n",
       "      <th>temps_de_preparation</th>\n",
       "      <th>etapes</th>\n",
       "      <th>score</th>\n",
       "      <th>similaire</th>\n",
       "      <th>nbre_de_commentaires</th>\n",
       "      <th>commentaires</th>\n",
       "    </tr>\n",
       "  </thead>\n",
       "  <tbody>\n",
       "    <tr>\n",
       "      <th>0</th>\n",
       "      <td>Wrap au chèvre croustillant</td>\n",
       "      <td>Apéritif ou buffet</td>\n",
       "      <td>Amuse-bouche au fromage</td>\n",
       "      <td>[{'quantite': '1', 'unite': '', 'nom': 'yaourt...</td>\n",
       "      <td>[{'quantite': '1', 'nom': 'balance de cuisine'...</td>\n",
       "      <td>1.0</td>\n",
       "      <td>très facile</td>\n",
       "      <td>bon marché</td>\n",
       "      <td>{'total': '20 min', 'prepartion': '10 min', 'r...</td>\n",
       "      <td>{'Étape 1': {'ingredients': [], 'description':...</td>\n",
       "      <td>5/5</td>\n",
       "      <td>Wrap au poulet,Wraps au thon,Wraps sucrés,Wrap...</td>\n",
       "      <td>3</td>\n",
       "      <td>[{'commentaire': \"C'est ma fille qui a fait so...</td>\n",
       "    </tr>\n",
       "    <tr>\n",
       "      <th>1</th>\n",
       "      <td>apéritif 'maison'comme au restaurant chinois</td>\n",
       "      <td>Apéritif ou buffet</td>\n",
       "      <td>Cocktail apéritif</td>\n",
       "      <td>[{'quantite': '1', 'unite': 'boîte', 'nom': 'l...</td>\n",
       "      <td>[{'quantite': '1', 'nom': 'chinois'}, {'quanti...</td>\n",
       "      <td>10.0</td>\n",
       "      <td>très facile</td>\n",
       "      <td>bon marché</td>\n",
       "      <td>{'total': '5 min', 'prepartion': '5 min', 'rep...</td>\n",
       "      <td>{'Étape 1': {'ingredients': [], 'description':...</td>\n",
       "      <td>4.7/5</td>\n",
       "      <td>Dessert chinois au maïs,Raviolis chinois,Quich...</td>\n",
       "      <td>3</td>\n",
       "      <td>[{'commentaire': \"Vraiment très bon, pas trop ...</td>\n",
       "    </tr>\n",
       "    <tr>\n",
       "      <th>2</th>\n",
       "      <td>Verrine d'automne</td>\n",
       "      <td>Apéritif ou buffet</td>\n",
       "      <td>Verrine</td>\n",
       "      <td>[{'quantite': '4', 'unite': 'c.à.s', 'nom': 'c...</td>\n",
       "      <td>[{'quantite': '1', 'nom': 'Lot de verrines'}, ...</td>\n",
       "      <td>5.0</td>\n",
       "      <td>facile</td>\n",
       "      <td>bon marché</td>\n",
       "      <td>{'total': '45 min', 'prepartion': '30 min', 'r...</td>\n",
       "      <td>{'Étape 1': {'ingredients': ['potimarron'], 'd...</td>\n",
       "      <td>4/5</td>\n",
       "      <td>tarte d'automne,Gâteau automnal,Salade d'autom...</td>\n",
       "      <td>6</td>\n",
       "      <td>[{'commentaire': \"C'était très bon. Une verrin...</td>\n",
       "    </tr>\n",
       "    <tr>\n",
       "      <th>3</th>\n",
       "      <td>Chips de kale</td>\n",
       "      <td>Apéritif ou buffet</td>\n",
       "      <td>Chips</td>\n",
       "      <td>[{'quantite': None, 'unite': None, 'nom': \"hui...</td>\n",
       "      <td>[{'quantite': '1', 'nom': 'Four'}, {'quantite'...</td>\n",
       "      <td>4.0</td>\n",
       "      <td>facile</td>\n",
       "      <td>bon marché</td>\n",
       "      <td>{'total': '30 min', 'prepartion': '10 min', 'r...</td>\n",
       "      <td>{'Étape 1': {'ingredients': [], 'description':...</td>\n",
       "      <td>4.9/5</td>\n",
       "      <td>Chips de legumes au four,Chips de patates douc...</td>\n",
       "      <td>23</td>\n",
       "      <td>[{'commentaire': \"Parfait pour un apéro diétét...</td>\n",
       "    </tr>\n",
       "    <tr>\n",
       "      <th>4</th>\n",
       "      <td>St-Germain Spritz</td>\n",
       "      <td>Apéritif ou buffet</td>\n",
       "      <td>Spritz</td>\n",
       "      <td>[{'quantite': '6', 'unite': 'cl', 'nom': 'MART...</td>\n",
       "      <td>NaN</td>\n",
       "      <td>1.0</td>\n",
       "      <td>très facile</td>\n",
       "      <td>moyen</td>\n",
       "      <td>{'total': '-', 'prepartion': None, 'repos': No...</td>\n",
       "      <td>{'Étape 1': {'ingredients': ['glaçons'], 'desc...</td>\n",
       "      <td>5/5</td>\n",
       "      <td>Gâteau aux pommes de Marie Germaine,Spritz aux...</td>\n",
       "      <td>1</td>\n",
       "      <td>[{'commentaire': 'Très bon et très frais', 'no...</td>\n",
       "    </tr>\n",
       "  </tbody>\n",
       "</table>\n",
       "</div>"
      ],
      "text/plain": [
       "                                 nom_de_recette     type_de_recette  \\\n",
       "0                   Wrap au chèvre croustillant  Apéritif ou buffet   \n",
       "1  apéritif 'maison'comme au restaurant chinois  Apéritif ou buffet   \n",
       "2                             Verrine d'automne  Apéritif ou buffet   \n",
       "3                                 Chips de kale  Apéritif ou buffet   \n",
       "4                             St-Germain Spritz  Apéritif ou buffet   \n",
       "\n",
       "              type_du_plat                                        ingredients  \\\n",
       "0  Amuse-bouche au fromage  [{'quantite': '1', 'unite': '', 'nom': 'yaourt...   \n",
       "1        Cocktail apéritif  [{'quantite': '1', 'unite': 'boîte', 'nom': 'l...   \n",
       "2                  Verrine  [{'quantite': '4', 'unite': 'c.à.s', 'nom': 'c...   \n",
       "3                    Chips  [{'quantite': None, 'unite': None, 'nom': \"hui...   \n",
       "4                   Spritz  [{'quantite': '6', 'unite': 'cl', 'nom': 'MART...   \n",
       "\n",
       "                                          ustensiles  nombre_de_personnes  \\\n",
       "0  [{'quantite': '1', 'nom': 'balance de cuisine'...                  1.0   \n",
       "1  [{'quantite': '1', 'nom': 'chinois'}, {'quanti...                 10.0   \n",
       "2  [{'quantite': '1', 'nom': 'Lot de verrines'}, ...                  5.0   \n",
       "3  [{'quantite': '1', 'nom': 'Four'}, {'quantite'...                  4.0   \n",
       "4                                                NaN                  1.0   \n",
       "\n",
       "    difficulte      budget                               temps_de_preparation  \\\n",
       "0  très facile  bon marché  {'total': '20 min', 'prepartion': '10 min', 'r...   \n",
       "1  très facile  bon marché  {'total': '5 min', 'prepartion': '5 min', 'rep...   \n",
       "2       facile  bon marché  {'total': '45 min', 'prepartion': '30 min', 'r...   \n",
       "3       facile  bon marché  {'total': '30 min', 'prepartion': '10 min', 'r...   \n",
       "4  très facile       moyen  {'total': '-', 'prepartion': None, 'repos': No...   \n",
       "\n",
       "                                              etapes  score  \\\n",
       "0  {'Étape 1': {'ingredients': [], 'description':...    5/5   \n",
       "1  {'Étape 1': {'ingredients': [], 'description':...  4.7/5   \n",
       "2  {'Étape 1': {'ingredients': ['potimarron'], 'd...    4/5   \n",
       "3  {'Étape 1': {'ingredients': [], 'description':...  4.9/5   \n",
       "4  {'Étape 1': {'ingredients': ['glaçons'], 'desc...    5/5   \n",
       "\n",
       "                                           similaire  nbre_de_commentaires  \\\n",
       "0  Wrap au poulet,Wraps au thon,Wraps sucrés,Wrap...                     3   \n",
       "1  Dessert chinois au maïs,Raviolis chinois,Quich...                     3   \n",
       "2  tarte d'automne,Gâteau automnal,Salade d'autom...                     6   \n",
       "3  Chips de legumes au four,Chips de patates douc...                    23   \n",
       "4  Gâteau aux pommes de Marie Germaine,Spritz aux...                     1   \n",
       "\n",
       "                                        commentaires  \n",
       "0  [{'commentaire': \"C'est ma fille qui a fait so...  \n",
       "1  [{'commentaire': \"Vraiment très bon, pas trop ...  \n",
       "2  [{'commentaire': \"C'était très bon. Une verrin...  \n",
       "3  [{'commentaire': \"Parfait pour un apéro diétét...  \n",
       "4  [{'commentaire': 'Très bon et très frais', 'no...  "
      ]
     },
     "execution_count": 43,
     "metadata": {},
     "output_type": "execute_result"
    }
   ],
   "source": [
    "# Afficher les premières lignes du DataFrame\n",
    "df.head()"
   ]
  },
  {
   "cell_type": "code",
   "execution_count": 81,
   "metadata": {},
   "outputs": [
    {
     "name": "stdout",
     "output_type": "stream",
     "text": [
      "<class 'pandas.core.frame.DataFrame'>\n",
      "RangeIndex: 37281 entries, 0 to 37280\n",
      "Data columns (total 15 columns):\n",
      " #   Column                Non-Null Count  Dtype  \n",
      "---  ------                --------------  -----  \n",
      " 0   nom_de_recette        37281 non-null  object \n",
      " 1   type_de_recette       37281 non-null  object \n",
      " 2   type_du_plat          37281 non-null  object \n",
      " 3   ingredients           37277 non-null  object \n",
      " 4   ustensiles            36539 non-null  object \n",
      " 5   nombre_de_personnes   37261 non-null  float64\n",
      " 6   difficulte            37281 non-null  object \n",
      " 7   budget                37281 non-null  object \n",
      " 8   temps_de_preparation  37281 non-null  object \n",
      " 9   etapes                37281 non-null  object \n",
      " 10  score                 37281 non-null  object \n",
      " 11  similaire             37180 non-null  object \n",
      " 12  nbre_de_commentaires  37281 non-null  int64  \n",
      " 13  commentaires          28917 non-null  object \n",
      " 14  score_sur_5           37281 non-null  float64\n",
      "dtypes: float64(2), int64(1), object(12)\n",
      "memory usage: 4.3+ MB\n"
     ]
    }
   ],
   "source": [
    "# Infos sur le dataset (types de données, valeurs manquantes)\n",
    "df.info()"
   ]
  },
  {
   "cell_type": "code",
   "execution_count": 45,
   "metadata": {},
   "outputs": [
    {
     "name": "stdout",
     "output_type": "stream",
     "text": [
      "nom_de_recette             0\n",
      "type_de_recette            0\n",
      "type_du_plat               0\n",
      "ingredients                4\n",
      "ustensiles               742\n",
      "nombre_de_personnes       20\n",
      "difficulte                 0\n",
      "budget                     0\n",
      "temps_de_preparation       0\n",
      "etapes                     0\n",
      "score                      0\n",
      "similaire                101\n",
      "nbre_de_commentaires       0\n",
      "commentaires            8364\n",
      "dtype: int64\n"
     ]
    }
   ],
   "source": [
    "# Explorer les valeurs manquantes\n",
    "print(df.isnull().sum())"
   ]
  },
  {
   "cell_type": "code",
   "execution_count": 46,
   "metadata": {},
   "outputs": [
    {
     "data": {
      "text/html": [
       "<div>\n",
       "<style scoped>\n",
       "    .dataframe tbody tr th:only-of-type {\n",
       "        vertical-align: middle;\n",
       "    }\n",
       "\n",
       "    .dataframe tbody tr th {\n",
       "        vertical-align: top;\n",
       "    }\n",
       "\n",
       "    .dataframe thead th {\n",
       "        text-align: right;\n",
       "    }\n",
       "</style>\n",
       "<table border=\"1\" class=\"dataframe\">\n",
       "  <thead>\n",
       "    <tr style=\"text-align: right;\">\n",
       "      <th></th>\n",
       "      <th>nombre_de_personnes</th>\n",
       "      <th>nbre_de_commentaires</th>\n",
       "    </tr>\n",
       "  </thead>\n",
       "  <tbody>\n",
       "    <tr>\n",
       "      <th>count</th>\n",
       "      <td>37261.000000</td>\n",
       "      <td>37281.000000</td>\n",
       "    </tr>\n",
       "    <tr>\n",
       "      <th>mean</th>\n",
       "      <td>8.653606</td>\n",
       "      <td>14.767388</td>\n",
       "    </tr>\n",
       "    <tr>\n",
       "      <th>std</th>\n",
       "      <td>452.411904</td>\n",
       "      <td>68.696935</td>\n",
       "    </tr>\n",
       "    <tr>\n",
       "      <th>min</th>\n",
       "      <td>1.000000</td>\n",
       "      <td>0.000000</td>\n",
       "    </tr>\n",
       "    <tr>\n",
       "      <th>25%</th>\n",
       "      <td>4.000000</td>\n",
       "      <td>1.000000</td>\n",
       "    </tr>\n",
       "    <tr>\n",
       "      <th>50%</th>\n",
       "      <td>4.000000</td>\n",
       "      <td>3.000000</td>\n",
       "    </tr>\n",
       "    <tr>\n",
       "      <th>75%</th>\n",
       "      <td>6.000000</td>\n",
       "      <td>9.000000</td>\n",
       "    </tr>\n",
       "    <tr>\n",
       "      <th>max</th>\n",
       "      <td>87108.000000</td>\n",
       "      <td>3283.000000</td>\n",
       "    </tr>\n",
       "  </tbody>\n",
       "</table>\n",
       "</div>"
      ],
      "text/plain": [
       "       nombre_de_personnes  nbre_de_commentaires\n",
       "count         37261.000000          37281.000000\n",
       "mean              8.653606             14.767388\n",
       "std             452.411904             68.696935\n",
       "min               1.000000              0.000000\n",
       "25%               4.000000              1.000000\n",
       "50%               4.000000              3.000000\n",
       "75%               6.000000              9.000000\n",
       "max           87108.000000           3283.000000"
      ]
     },
     "execution_count": 46,
     "metadata": {},
     "output_type": "execute_result"
    }
   ],
   "source": [
    "# Statistiques descriptives\n",
    "df.describe()"
   ]
  },
  {
   "cell_type": "markdown",
   "metadata": {},
   "source": [
    "### Exploration par Colonne et Prétraitement"
   ]
  },
  {
   "cell_type": "markdown",
   "metadata": {},
   "source": [
    "#### Nom de recette"
   ]
  },
  {
   "cell_type": "code",
   "execution_count": 73,
   "metadata": {},
   "outputs": [
    {
     "name": "stdout",
     "output_type": "stream",
     "text": [
      "0                     wrap au chèvre croustillant\n",
      "1    apéritif 'maison'comme au restaurant chinois\n",
      "2                               verrine d'automne\n",
      "3                                   chips de kale\n",
      "4                               st-germain spritz\n",
      "Name: nom_de_recette, dtype: object\n"
     ]
    }
   ],
   "source": [
    "# Transformer la colonne 'nom_de_recette' en minuscules\n",
    "df['nom_de_recette'] = df['nom_de_recette'].astype(str).str.lower()\n",
    "\n",
    "# Afficher les premières lignes du DataFrame avec la colonne transformée\n",
    "print(df['nom_de_recette'].head())"
   ]
  },
  {
   "cell_type": "code",
   "execution_count": 82,
   "metadata": {},
   "outputs": [
    {
     "name": "stdout",
     "output_type": "stream",
     "text": [
      "\n",
      "Description :\n",
      " count                37281\n",
      "unique               37196\n",
      "top       terrine de lapin\n",
      "freq                     2\n",
      "Name: nom_de_recette, dtype: object\n"
     ]
    }
   ],
   "source": [
    "print('\\nDescription :\\n',df['nom_de_recette'].describe())\n"
   ]
  },
  {
   "cell_type": "code",
   "execution_count": 83,
   "metadata": {},
   "outputs": [
    {
     "name": "stdout",
     "output_type": "stream",
     "text": [
      "Nombre de 'nom_de_recette' non uniques : 170\n"
     ]
    }
   ],
   "source": [
    "non_unique_recipes = df[df.duplicated('nom_de_recette', keep=False)]\n",
    "num_non_unique_recipes = non_unique_recipes.shape[0]\n",
    "print(\"Nombre de 'nom_de_recette' non uniques :\", num_non_unique_recipes)"
   ]
  },
  {
   "cell_type": "code",
   "execution_count": 84,
   "metadata": {},
   "outputs": [
    {
     "name": "stdout",
     "output_type": "stream",
     "text": [
      "terrine de lapin                    2\n",
      "gratin de pâtes au jambon           2\n",
      "gâteau renversé à l'orange          2\n",
      "gâteau au citron et au pavot        2\n",
      "tartiflette facile                  2\n",
      "                                   ..\n",
      "poulet au cidre                     2\n",
      "mousse aux trois chocolats          2\n",
      "mousse au chocolat au tofu          2\n",
      "poulet à la crème et champignons    2\n",
      "clafoutis d'ananas créole           1\n",
      "Name: nom_de_recette, Length: 86, dtype: int64\n"
     ]
    }
   ],
   "source": [
    "print(df['nom_de_recette'].value_counts().head(86))\n"
   ]
  },
  {
   "cell_type": "code",
   "execution_count": 78,
   "metadata": {},
   "outputs": [
    {
     "data": {
      "image/png": "[encoded data removed]",
      "text/plain": [
       "<Figure size 432x288 with 1 Axes>"
      ]
     },
     "metadata": {
      "needs_background": "light"
     },
     "output_type": "display_data"
    }
   ],
   "source": [
    "sns.histplot(df['nom_de_recette'].apply(len), bins=20, kde=True)\n",
    "plt.title('Distribution des longueurs des noms de recettes')\n",
    "plt.show()\n"
   ]
  },
  {
   "cell_type": "code",
   "execution_count": 79,
   "metadata": {},
   "outputs": [
    {
     "name": "stdout",
     "output_type": "stream",
     "text": [
      "Exemples de recettes avec des noms plus longs :\n",
      " 1             apéritif 'maison'comme au restaurant chinois\n",
      "18            côtes de porc aux pommes de terre en cocotte\n",
      "20       omelette brouillée au saumon et à la crème fra...\n",
      "22       wok de poulet, courgettes et vermicelles de ri...\n",
      "27       omelette aux girolles, blé, asperges et auberg...\n",
      "                               ...                        \n",
      "37236          verrine au saumon fumé, crème et ciboulette\n",
      "37238            beignets d'aubergines au coulis de tomate\n",
      "37249     rillettes de thon au basilic au monsieur cuisine\n",
      "37259           cake provençal aux tomates et à l'emmental\n",
      "37277           aperol spritz : cocktail italien pétillant\n",
      "Name: nom_de_recette, Length: 8023, dtype: object\n"
     ]
    }
   ],
   "source": [
    "long_names_recipes = df[df['nom_de_recette'].apply(len) > 40]['nom_de_recette']\n",
    "print(\"Exemples de recettes avec des noms plus longs :\\n\", long_names_recipes)"
   ]
  },
  {
   "cell_type": "code",
   "execution_count": 80,
   "metadata": {},
   "outputs": [
    {
     "name": "stdout",
     "output_type": "stream",
     "text": [
      "Exemples de recettes aléatoires :\n",
      " 25987    tartelette de fraise à la crème tagada\n",
      "12788       riz aux merguez et aux pois chiches\n",
      "31379     crumble aux pommes poire et spéculoos\n",
      "4025        coquilles saint-jacques à l'oseille\n",
      "17435                       le burger auvergnat\n",
      "Name: nom_de_recette, dtype: object\n"
     ]
    }
   ],
   "source": [
    "random_recipes = df['nom_de_recette'].sample(5)\n",
    "print(\"Exemples de recettes aléatoires :\\n\", random_recipes)"
   ]
  },
  {
   "cell_type": "code",
   "execution_count": 87,
   "metadata": {},
   "outputs": [
    {
     "name": "stdout",
     "output_type": "stream",
     "text": [
      "Recettes contenant 'poulet':\n",
      " 6                        wok de poulet au curry et au thym\n",
      "11                                yassa de poulet moutardé\n",
      "22       wok de poulet, courgettes et vermicelles de ri...\n",
      "48            courgettes farcies au poulet et au camembert\n",
      "54               courgettes et émincé de poulet à la crème\n",
      "                               ...                        \n",
      "36812    verrine du soleil (courgettes, poulet, curry, ...\n",
      "36859              cake poulet, chèvre et tomates confites\n",
      "36911                     cake au poulet et à la courgette\n",
      "37025                     rillettes de poulet à l'ancienne\n",
      "37066                                 chaussons au poulet \n",
      "Name: nom_de_recette, Length: 2111, dtype: object\n"
     ]
    }
   ],
   "source": [
    "keyword = 'poulet'\n",
    "recipes_with_keyword = df[df['nom_de_recette'].str.contains(keyword)]\n",
    "print(f\"Recettes contenant '{keyword}':\\n\", recipes_with_keyword['nom_de_recette'])\n"
   ]
  },
  {
   "cell_type": "code",
   "execution_count": 95,
   "metadata": {},
   "outputs": [
    {
     "name": "stderr",
     "output_type": "stream",
     "text": [
      "[nltk_data] Downloading package stopwords to\n",
      "[nltk_data]     C:\\Users\\MSI\\AppData\\Roaming\\nltk_data...\n",
      "[nltk_data]   Package stopwords is already up-to-date!\n"
     ]
    },
    {
     "data": {
      "image/png": "[encoded data removed]",
      "text/plain": [
       "<Figure size 864x432 with 1 Axes>"
      ]
     },
     "metadata": {
      "needs_background": "light"
     },
     "output_type": "display_data"
    }
   ],
   "source": [
    "import nltk\n",
    "from nltk import FreqDist\n",
    "from nltk.corpus import stopwords\n",
    "import matplotlib.pyplot as plt\n",
    "from unidecode import unidecode\n",
    "\n",
    "# Fonction pour retirer les accents\n",
    "def remove_accents(input_str):\n",
    "    return unidecode(input_str)\n",
    "\n",
    "# Appliquer la fonction pour retirer les accents sur la colonne 'nom_de_recette'\n",
    "df['nom_de_recette_cleaned'] = df['nom_de_recette'].apply(remove_accents)\n",
    "\n",
    "# Télécharger les ressources nécessaires pour NLTK (si ce n'est pas déjà fait)\n",
    "nltk.download('stopwords')\n",
    "\n",
    "# Concaténer tous les noms de recettes en une seule chaîne\n",
    "all_recipe_names = ' '.join(df['nom_de_recette_cleaned'])\n",
    "\n",
    "# Tokenization des mots\n",
    "words = nltk.word_tokenize(all_recipe_names)\n",
    "\n",
    "# Supprimer les mots vides (stopwords)\n",
    "stop_words = set(stopwords.words('french'))  # Utilisez 'english' si les noms de recettes sont en anglais\n",
    "filtered_words = [word.lower() for word in words if word.isalnum() and word.lower() not in stop_words]\n",
    "\n",
    "# Calculer la fréquence des mots\n",
    "word_freq = FreqDist(filtered_words)\n",
    "\n",
    "# # Afficher les mots les plus fréquents dans un graphique\n",
    "plt.figure(figsize=(12, 6))\n",
    "word_freq.plot(30, cumulative=False)\n",
    "plt.show()\n"
   ]
  },
  {
   "cell_type": "code",
   "execution_count": null,
   "metadata": {},
   "outputs": [],
   "source": [
    "# frequent words\n",
    "# delete duplicates\n",
    "# accent, stopwords"
   ]
  },
  {
   "cell_type": "markdown",
   "metadata": {},
   "source": [
    "#### autres"
   ]
  },
  {
   "cell_type": "code",
   "execution_count": 47,
   "metadata": {},
   "outputs": [
    {
     "data": {
      "text/plain": [
       "4.0      15122\n",
       "6.0       9583\n",
       "2.0       3476\n",
       "8.0       3472\n",
       "1.0       1064\n",
       "         ...  \n",
       "65.0         1\n",
       "910.0        1\n",
       "55.0         1\n",
       "88.0         1\n",
       "125.0        1\n",
       "Name: nombre_de_personnes, Length: 64, dtype: int64"
      ]
     },
     "execution_count": 47,
     "metadata": {},
     "output_type": "execute_result"
    }
   ],
   "source": [
    "# Explorer la distribution des valeurs dans une colonne particulière\n",
    "df['nombre_de_personnes'].value_counts()"
   ]
  },
  {
   "cell_type": "code",
   "execution_count": 48,
   "metadata": {},
   "outputs": [
    {
     "name": "stdout",
     "output_type": "stream",
     "text": [
      "['Apéritif ou buffet' 'Plat principal' 'Dessert' 'Entrée']\n"
     ]
    }
   ],
   "source": [
    "# Explorer les catégories uniques dans une colonne (par exemple, type_de_recette)\n",
    "print(df['type_de_recette'].unique())"
   ]
  },
  {
   "cell_type": "code",
   "execution_count": 49,
   "metadata": {},
   "outputs": [
    {
     "name": "stdout",
     "output_type": "stream",
     "text": [
      "facile         17670\n",
      "très facile    16485\n",
      "moyenne         2928\n",
      "difficile        198\n",
      "Name: difficulte, dtype: int64\n"
     ]
    }
   ],
   "source": [
    "# Explorer les valeurs uniques dans la colonne 'difficulte'\n",
    "print(df['difficulte'].value_counts())"
   ]
  },
  {
   "cell_type": "code",
   "execution_count": 50,
   "metadata": {},
   "outputs": [],
   "source": [
    "# Créer la colonne 'score_sur_5' en extrayant la partie entière du score\n",
    "df['score_sur_5'] = df['score'].apply(lambda x: float(x.split('/')[0]))"
   ]
  },
  {
   "cell_type": "code",
   "execution_count": 51,
   "metadata": {},
   "outputs": [
    {
     "name": "stdout",
     "output_type": "stream",
     "text": [
      "[{'commentaire': \"C'est ma fille qui a fait son premier wrap. On n'avait pas tous les ingrédients, mais elle s'est débrouillée et on a adoré toutes les deux. On va refaire avec du poulet.\", 'note': 5}, {'commentaire': 'Bonjour merci et excellent appétit !', 'note': 5}, {'commentaire': 'Un petit conseil si vous voulez faire cette recette : remplacer le Rocamadour ou Cabécou par du crottin de chèvre. Délicieux !', 'note': 5}]\n"
     ]
    }
   ],
   "source": [
    "# Explorer les commentaires\n",
    "print(df['commentaires'][0])"
   ]
  },
  {
   "cell_type": "code",
   "execution_count": 52,
   "metadata": {},
   "outputs": [
    {
     "data": {
      "image/png": "[encoded data removed]",
      "text/plain": [
       "<Figure size 432x288 with 1 Axes>"
      ]
     },
     "metadata": {
      "needs_background": "light"
     },
     "output_type": "display_data"
    }
   ],
   "source": [
    "# Visualiser la distribution des notes (score)\n",
    "sns.histplot(df['score_sur_5'], bins=5, kde=True)\n",
    "plt.title('Distribution des scores')\n",
    "plt.show()"
   ]
  },
  {
   "cell_type": "code",
   "execution_count": 53,
   "metadata": {},
   "outputs": [
    {
     "data": {
      "image/png": "[encoded data removed]",
      "text/plain": [
       "<Figure size 432x288 with 1 Axes>"
      ]
     },
     "metadata": {
      "needs_background": "light"
     },
     "output_type": "display_data"
    }
   ],
   "source": [
    "# Explorer la relation entre certaines variables (par exemple, score et nombre_de_commentaires)\n",
    "sns.scatterplot(x='score_sur_5', y='nbre_de_commentaires', data=df)\n",
    "plt.title('Relation entre le score et le nombre de commentaires')\n",
    "plt.show()"
   ]
  }
 ],
 "metadata": {
  "kernelspec": {
   "display_name": "Python 3",
   "language": "python",
   "name": "python3"
  },
  "language_info": {
   "codemirror_mode": {
    "name": "ipython",
    "version": 3
   },
   "file_extension": ".py",
   "mimetype": "text/x-python",
   "name": "python",
   "nbconvert_exporter": "python",
   "pygments_lexer": "ipython3",
   "version": "3.9.13"
  }
 },
 "nbformat": 4,
 "nbformat_minor": 2
}
